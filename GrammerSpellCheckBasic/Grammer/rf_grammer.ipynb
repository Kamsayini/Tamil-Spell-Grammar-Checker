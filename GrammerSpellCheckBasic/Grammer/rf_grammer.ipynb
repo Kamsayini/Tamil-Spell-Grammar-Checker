{
  "nbformat": 4,
  "nbformat_minor": 0,
  "metadata": {
    "colab": {
      "provenance": []
    },
    "kernelspec": {
      "name": "python3",
      "display_name": "Python 3"
    },
    "language_info": {
      "name": "python"
    }
  },
  "cells": [
    {
      "cell_type": "code",
      "source": [
        "# Step 1: Import Libraries\n",
        "import pandas as pd\n",
        "from sklearn.feature_extraction.text import TfidfVectorizer\n",
        "from sklearn.model_selection import train_test_split\n",
        "from sklearn.ensemble import RandomForestClassifier\n",
        "from sklearn.metrics import classification_report, confusion_matrix, ConfusionMatrixDisplay\n",
        "import joblib\n",
        "import os\n",
        "\n",
        "# Step 2: Load the CSV Dataset\n",
        "df = pd.read_csv('TamilGrammarDataset.csv')  # Updated filename"
      ],
      "metadata": {
        "id": "M25UxEWcNCia"
      },
      "execution_count": 22,
      "outputs": []
    },
    {
      "cell_type": "code",
      "source": [
        "print(df.head())"
      ],
      "metadata": {
        "colab": {
          "base_uri": "https://localhost:8080/"
        },
        "id": "iXts3S6bTuNs",
        "outputId": "09f914f9-0644-4bce-a92b-c73db4b0db97"
      },
      "execution_count": 30,
      "outputs": [
        {
          "output_type": "stream",
          "name": "stdout",
          "text": [
            "                          Sentence      Error Type  \\\n",
            "0      நாம் பழத்தை சாப்பிடுகிறாள்.  Spelling Error   \n",
            "1     நான் பாடத்தை படிக்கிறார்கள்.  Spelling Error   \n",
            "2  அவர்கள் புத்தகத்தை படிக்கிறாள்.        No Error   \n",
            "3     நான் பாடத்தை விளையாடுகிறான்.      Verb Tense   \n",
            "4           அவள் பந்து செல்கிறான்.  Spelling Error   \n",
            "\n",
            "                Corrected Sentence  \n",
            "0      நாம் பழத்தை சாப்பிடுகிறான்.  \n",
            "1           நான் பாடத்தை செல்வேன்.  \n",
            "2  அவர்கள் புத்தகத்தை படிக்கிறாள்.  \n",
            "3     நான் பாடத்தை விளையாடுகிறோம்.  \n",
            "4       அவள் பந்து விளையாடுகிறோம்.  \n"
          ]
        }
      ]
    },
    {
      "cell_type": "code",
      "source": [
        "# Step 3: Preprocess Data\n",
        "# Split the data into features (sentences) and labels (error types)\n",
        "X = df[\"Sentence\"]  # Input sentences\n",
        "y = df[\"Error Type\"]  # Error types\n",
        "\n",
        "# Encode labels to numeric values\n",
        "y_encoded = pd.factorize(y)[0]\n",
        "\n",
        "# Train-Validation-Test Split\n",
        "X_train, X_temp, y_train, y_temp = train_test_split(X, y_encoded, test_size=0.3, random_state=42)\n",
        "X_val, X_test, y_val, y_test = train_test_split(X_temp, y_temp, test_size=0.5, random_state=42)\n"
      ],
      "metadata": {
        "id": "pLPUFiG1O91x"
      },
      "execution_count": 31,
      "outputs": []
    },
    {
      "cell_type": "code",
      "source": [
        "# Step 4: Convert Sentences to Features\n",
        "# TF-IDF Vectorization\n",
        "vectorizer = TfidfVectorizer(analyzer=\"word\", token_pattern=r'\\S+', ngram_range=(1, 2))\n",
        "\n",
        "# Transform Sentences\n",
        "X_train_vec = vectorizer.fit_transform(X_train)\n",
        "X_val_vec = vectorizer.transform(X_val)\n",
        "X_test_vec = vectorizer.transform(X_test)"
      ],
      "metadata": {
        "id": "igkILD16PAas"
      },
      "execution_count": 32,
      "outputs": []
    },
    {
      "cell_type": "code",
      "source": [
        "# Step 5: Train the Model\n",
        "# Train Random Forest Model\n",
        "model = RandomForestClassifier(n_estimators=100, random_state=42)\n",
        "model.fit(X_train_vec, y_train)\n"
      ],
      "metadata": {
        "colab": {
          "base_uri": "https://localhost:8080/",
          "height": 80
        },
        "id": "jAHdPgQYPC5P",
        "outputId": "fde1a475-dad2-4244-f791-e264b186e816"
      },
      "execution_count": 33,
      "outputs": [
        {
          "output_type": "execute_result",
          "data": {
            "text/plain": [
              "RandomForestClassifier(random_state=42)"
            ],
            "text/html": [
              "<style>#sk-container-id-3 {\n",
              "  /* Definition of color scheme common for light and dark mode */\n",
              "  --sklearn-color-text: #000;\n",
              "  --sklearn-color-text-muted: #666;\n",
              "  --sklearn-color-line: gray;\n",
              "  /* Definition of color scheme for unfitted estimators */\n",
              "  --sklearn-color-unfitted-level-0: #fff5e6;\n",
              "  --sklearn-color-unfitted-level-1: #f6e4d2;\n",
              "  --sklearn-color-unfitted-level-2: #ffe0b3;\n",
              "  --sklearn-color-unfitted-level-3: chocolate;\n",
              "  /* Definition of color scheme for fitted estimators */\n",
              "  --sklearn-color-fitted-level-0: #f0f8ff;\n",
              "  --sklearn-color-fitted-level-1: #d4ebff;\n",
              "  --sklearn-color-fitted-level-2: #b3dbfd;\n",
              "  --sklearn-color-fitted-level-3: cornflowerblue;\n",
              "\n",
              "  /* Specific color for light theme */\n",
              "  --sklearn-color-text-on-default-background: var(--sg-text-color, var(--theme-code-foreground, var(--jp-content-font-color1, black)));\n",
              "  --sklearn-color-background: var(--sg-background-color, var(--theme-background, var(--jp-layout-color0, white)));\n",
              "  --sklearn-color-border-box: var(--sg-text-color, var(--theme-code-foreground, var(--jp-content-font-color1, black)));\n",
              "  --sklearn-color-icon: #696969;\n",
              "\n",
              "  @media (prefers-color-scheme: dark) {\n",
              "    /* Redefinition of color scheme for dark theme */\n",
              "    --sklearn-color-text-on-default-background: var(--sg-text-color, var(--theme-code-foreground, var(--jp-content-font-color1, white)));\n",
              "    --sklearn-color-background: var(--sg-background-color, var(--theme-background, var(--jp-layout-color0, #111)));\n",
              "    --sklearn-color-border-box: var(--sg-text-color, var(--theme-code-foreground, var(--jp-content-font-color1, white)));\n",
              "    --sklearn-color-icon: #878787;\n",
              "  }\n",
              "}\n",
              "\n",
              "#sk-container-id-3 {\n",
              "  color: var(--sklearn-color-text);\n",
              "}\n",
              "\n",
              "#sk-container-id-3 pre {\n",
              "  padding: 0;\n",
              "}\n",
              "\n",
              "#sk-container-id-3 input.sk-hidden--visually {\n",
              "  border: 0;\n",
              "  clip: rect(1px 1px 1px 1px);\n",
              "  clip: rect(1px, 1px, 1px, 1px);\n",
              "  height: 1px;\n",
              "  margin: -1px;\n",
              "  overflow: hidden;\n",
              "  padding: 0;\n",
              "  position: absolute;\n",
              "  width: 1px;\n",
              "}\n",
              "\n",
              "#sk-container-id-3 div.sk-dashed-wrapped {\n",
              "  border: 1px dashed var(--sklearn-color-line);\n",
              "  margin: 0 0.4em 0.5em 0.4em;\n",
              "  box-sizing: border-box;\n",
              "  padding-bottom: 0.4em;\n",
              "  background-color: var(--sklearn-color-background);\n",
              "}\n",
              "\n",
              "#sk-container-id-3 div.sk-container {\n",
              "  /* jupyter's `normalize.less` sets `[hidden] { display: none; }`\n",
              "     but bootstrap.min.css set `[hidden] { display: none !important; }`\n",
              "     so we also need the `!important` here to be able to override the\n",
              "     default hidden behavior on the sphinx rendered scikit-learn.org.\n",
              "     See: https://github.com/scikit-learn/scikit-learn/issues/21755 */\n",
              "  display: inline-block !important;\n",
              "  position: relative;\n",
              "}\n",
              "\n",
              "#sk-container-id-3 div.sk-text-repr-fallback {\n",
              "  display: none;\n",
              "}\n",
              "\n",
              "div.sk-parallel-item,\n",
              "div.sk-serial,\n",
              "div.sk-item {\n",
              "  /* draw centered vertical line to link estimators */\n",
              "  background-image: linear-gradient(var(--sklearn-color-text-on-default-background), var(--sklearn-color-text-on-default-background));\n",
              "  background-size: 2px 100%;\n",
              "  background-repeat: no-repeat;\n",
              "  background-position: center center;\n",
              "}\n",
              "\n",
              "/* Parallel-specific style estimator block */\n",
              "\n",
              "#sk-container-id-3 div.sk-parallel-item::after {\n",
              "  content: \"\";\n",
              "  width: 100%;\n",
              "  border-bottom: 2px solid var(--sklearn-color-text-on-default-background);\n",
              "  flex-grow: 1;\n",
              "}\n",
              "\n",
              "#sk-container-id-3 div.sk-parallel {\n",
              "  display: flex;\n",
              "  align-items: stretch;\n",
              "  justify-content: center;\n",
              "  background-color: var(--sklearn-color-background);\n",
              "  position: relative;\n",
              "}\n",
              "\n",
              "#sk-container-id-3 div.sk-parallel-item {\n",
              "  display: flex;\n",
              "  flex-direction: column;\n",
              "}\n",
              "\n",
              "#sk-container-id-3 div.sk-parallel-item:first-child::after {\n",
              "  align-self: flex-end;\n",
              "  width: 50%;\n",
              "}\n",
              "\n",
              "#sk-container-id-3 div.sk-parallel-item:last-child::after {\n",
              "  align-self: flex-start;\n",
              "  width: 50%;\n",
              "}\n",
              "\n",
              "#sk-container-id-3 div.sk-parallel-item:only-child::after {\n",
              "  width: 0;\n",
              "}\n",
              "\n",
              "/* Serial-specific style estimator block */\n",
              "\n",
              "#sk-container-id-3 div.sk-serial {\n",
              "  display: flex;\n",
              "  flex-direction: column;\n",
              "  align-items: center;\n",
              "  background-color: var(--sklearn-color-background);\n",
              "  padding-right: 1em;\n",
              "  padding-left: 1em;\n",
              "}\n",
              "\n",
              "\n",
              "/* Toggleable style: style used for estimator/Pipeline/ColumnTransformer box that is\n",
              "clickable and can be expanded/collapsed.\n",
              "- Pipeline and ColumnTransformer use this feature and define the default style\n",
              "- Estimators will overwrite some part of the style using the `sk-estimator` class\n",
              "*/\n",
              "\n",
              "/* Pipeline and ColumnTransformer style (default) */\n",
              "\n",
              "#sk-container-id-3 div.sk-toggleable {\n",
              "  /* Default theme specific background. It is overwritten whether we have a\n",
              "  specific estimator or a Pipeline/ColumnTransformer */\n",
              "  background-color: var(--sklearn-color-background);\n",
              "}\n",
              "\n",
              "/* Toggleable label */\n",
              "#sk-container-id-3 label.sk-toggleable__label {\n",
              "  cursor: pointer;\n",
              "  display: flex;\n",
              "  width: 100%;\n",
              "  margin-bottom: 0;\n",
              "  padding: 0.5em;\n",
              "  box-sizing: border-box;\n",
              "  text-align: center;\n",
              "  align-items: start;\n",
              "  justify-content: space-between;\n",
              "  gap: 0.5em;\n",
              "}\n",
              "\n",
              "#sk-container-id-3 label.sk-toggleable__label .caption {\n",
              "  font-size: 0.6rem;\n",
              "  font-weight: lighter;\n",
              "  color: var(--sklearn-color-text-muted);\n",
              "}\n",
              "\n",
              "#sk-container-id-3 label.sk-toggleable__label-arrow:before {\n",
              "  /* Arrow on the left of the label */\n",
              "  content: \"▸\";\n",
              "  float: left;\n",
              "  margin-right: 0.25em;\n",
              "  color: var(--sklearn-color-icon);\n",
              "}\n",
              "\n",
              "#sk-container-id-3 label.sk-toggleable__label-arrow:hover:before {\n",
              "  color: var(--sklearn-color-text);\n",
              "}\n",
              "\n",
              "/* Toggleable content - dropdown */\n",
              "\n",
              "#sk-container-id-3 div.sk-toggleable__content {\n",
              "  max-height: 0;\n",
              "  max-width: 0;\n",
              "  overflow: hidden;\n",
              "  text-align: left;\n",
              "  /* unfitted */\n",
              "  background-color: var(--sklearn-color-unfitted-level-0);\n",
              "}\n",
              "\n",
              "#sk-container-id-3 div.sk-toggleable__content.fitted {\n",
              "  /* fitted */\n",
              "  background-color: var(--sklearn-color-fitted-level-0);\n",
              "}\n",
              "\n",
              "#sk-container-id-3 div.sk-toggleable__content pre {\n",
              "  margin: 0.2em;\n",
              "  border-radius: 0.25em;\n",
              "  color: var(--sklearn-color-text);\n",
              "  /* unfitted */\n",
              "  background-color: var(--sklearn-color-unfitted-level-0);\n",
              "}\n",
              "\n",
              "#sk-container-id-3 div.sk-toggleable__content.fitted pre {\n",
              "  /* unfitted */\n",
              "  background-color: var(--sklearn-color-fitted-level-0);\n",
              "}\n",
              "\n",
              "#sk-container-id-3 input.sk-toggleable__control:checked~div.sk-toggleable__content {\n",
              "  /* Expand drop-down */\n",
              "  max-height: 200px;\n",
              "  max-width: 100%;\n",
              "  overflow: auto;\n",
              "}\n",
              "\n",
              "#sk-container-id-3 input.sk-toggleable__control:checked~label.sk-toggleable__label-arrow:before {\n",
              "  content: \"▾\";\n",
              "}\n",
              "\n",
              "/* Pipeline/ColumnTransformer-specific style */\n",
              "\n",
              "#sk-container-id-3 div.sk-label input.sk-toggleable__control:checked~label.sk-toggleable__label {\n",
              "  color: var(--sklearn-color-text);\n",
              "  background-color: var(--sklearn-color-unfitted-level-2);\n",
              "}\n",
              "\n",
              "#sk-container-id-3 div.sk-label.fitted input.sk-toggleable__control:checked~label.sk-toggleable__label {\n",
              "  background-color: var(--sklearn-color-fitted-level-2);\n",
              "}\n",
              "\n",
              "/* Estimator-specific style */\n",
              "\n",
              "/* Colorize estimator box */\n",
              "#sk-container-id-3 div.sk-estimator input.sk-toggleable__control:checked~label.sk-toggleable__label {\n",
              "  /* unfitted */\n",
              "  background-color: var(--sklearn-color-unfitted-level-2);\n",
              "}\n",
              "\n",
              "#sk-container-id-3 div.sk-estimator.fitted input.sk-toggleable__control:checked~label.sk-toggleable__label {\n",
              "  /* fitted */\n",
              "  background-color: var(--sklearn-color-fitted-level-2);\n",
              "}\n",
              "\n",
              "#sk-container-id-3 div.sk-label label.sk-toggleable__label,\n",
              "#sk-container-id-3 div.sk-label label {\n",
              "  /* The background is the default theme color */\n",
              "  color: var(--sklearn-color-text-on-default-background);\n",
              "}\n",
              "\n",
              "/* On hover, darken the color of the background */\n",
              "#sk-container-id-3 div.sk-label:hover label.sk-toggleable__label {\n",
              "  color: var(--sklearn-color-text);\n",
              "  background-color: var(--sklearn-color-unfitted-level-2);\n",
              "}\n",
              "\n",
              "/* Label box, darken color on hover, fitted */\n",
              "#sk-container-id-3 div.sk-label.fitted:hover label.sk-toggleable__label.fitted {\n",
              "  color: var(--sklearn-color-text);\n",
              "  background-color: var(--sklearn-color-fitted-level-2);\n",
              "}\n",
              "\n",
              "/* Estimator label */\n",
              "\n",
              "#sk-container-id-3 div.sk-label label {\n",
              "  font-family: monospace;\n",
              "  font-weight: bold;\n",
              "  display: inline-block;\n",
              "  line-height: 1.2em;\n",
              "}\n",
              "\n",
              "#sk-container-id-3 div.sk-label-container {\n",
              "  text-align: center;\n",
              "}\n",
              "\n",
              "/* Estimator-specific */\n",
              "#sk-container-id-3 div.sk-estimator {\n",
              "  font-family: monospace;\n",
              "  border: 1px dotted var(--sklearn-color-border-box);\n",
              "  border-radius: 0.25em;\n",
              "  box-sizing: border-box;\n",
              "  margin-bottom: 0.5em;\n",
              "  /* unfitted */\n",
              "  background-color: var(--sklearn-color-unfitted-level-0);\n",
              "}\n",
              "\n",
              "#sk-container-id-3 div.sk-estimator.fitted {\n",
              "  /* fitted */\n",
              "  background-color: var(--sklearn-color-fitted-level-0);\n",
              "}\n",
              "\n",
              "/* on hover */\n",
              "#sk-container-id-3 div.sk-estimator:hover {\n",
              "  /* unfitted */\n",
              "  background-color: var(--sklearn-color-unfitted-level-2);\n",
              "}\n",
              "\n",
              "#sk-container-id-3 div.sk-estimator.fitted:hover {\n",
              "  /* fitted */\n",
              "  background-color: var(--sklearn-color-fitted-level-2);\n",
              "}\n",
              "\n",
              "/* Specification for estimator info (e.g. \"i\" and \"?\") */\n",
              "\n",
              "/* Common style for \"i\" and \"?\" */\n",
              "\n",
              ".sk-estimator-doc-link,\n",
              "a:link.sk-estimator-doc-link,\n",
              "a:visited.sk-estimator-doc-link {\n",
              "  float: right;\n",
              "  font-size: smaller;\n",
              "  line-height: 1em;\n",
              "  font-family: monospace;\n",
              "  background-color: var(--sklearn-color-background);\n",
              "  border-radius: 1em;\n",
              "  height: 1em;\n",
              "  width: 1em;\n",
              "  text-decoration: none !important;\n",
              "  margin-left: 0.5em;\n",
              "  text-align: center;\n",
              "  /* unfitted */\n",
              "  border: var(--sklearn-color-unfitted-level-1) 1pt solid;\n",
              "  color: var(--sklearn-color-unfitted-level-1);\n",
              "}\n",
              "\n",
              ".sk-estimator-doc-link.fitted,\n",
              "a:link.sk-estimator-doc-link.fitted,\n",
              "a:visited.sk-estimator-doc-link.fitted {\n",
              "  /* fitted */\n",
              "  border: var(--sklearn-color-fitted-level-1) 1pt solid;\n",
              "  color: var(--sklearn-color-fitted-level-1);\n",
              "}\n",
              "\n",
              "/* On hover */\n",
              "div.sk-estimator:hover .sk-estimator-doc-link:hover,\n",
              ".sk-estimator-doc-link:hover,\n",
              "div.sk-label-container:hover .sk-estimator-doc-link:hover,\n",
              ".sk-estimator-doc-link:hover {\n",
              "  /* unfitted */\n",
              "  background-color: var(--sklearn-color-unfitted-level-3);\n",
              "  color: var(--sklearn-color-background);\n",
              "  text-decoration: none;\n",
              "}\n",
              "\n",
              "div.sk-estimator.fitted:hover .sk-estimator-doc-link.fitted:hover,\n",
              ".sk-estimator-doc-link.fitted:hover,\n",
              "div.sk-label-container:hover .sk-estimator-doc-link.fitted:hover,\n",
              ".sk-estimator-doc-link.fitted:hover {\n",
              "  /* fitted */\n",
              "  background-color: var(--sklearn-color-fitted-level-3);\n",
              "  color: var(--sklearn-color-background);\n",
              "  text-decoration: none;\n",
              "}\n",
              "\n",
              "/* Span, style for the box shown on hovering the info icon */\n",
              ".sk-estimator-doc-link span {\n",
              "  display: none;\n",
              "  z-index: 9999;\n",
              "  position: relative;\n",
              "  font-weight: normal;\n",
              "  right: .2ex;\n",
              "  padding: .5ex;\n",
              "  margin: .5ex;\n",
              "  width: min-content;\n",
              "  min-width: 20ex;\n",
              "  max-width: 50ex;\n",
              "  color: var(--sklearn-color-text);\n",
              "  box-shadow: 2pt 2pt 4pt #999;\n",
              "  /* unfitted */\n",
              "  background: var(--sklearn-color-unfitted-level-0);\n",
              "  border: .5pt solid var(--sklearn-color-unfitted-level-3);\n",
              "}\n",
              "\n",
              ".sk-estimator-doc-link.fitted span {\n",
              "  /* fitted */\n",
              "  background: var(--sklearn-color-fitted-level-0);\n",
              "  border: var(--sklearn-color-fitted-level-3);\n",
              "}\n",
              "\n",
              ".sk-estimator-doc-link:hover span {\n",
              "  display: block;\n",
              "}\n",
              "\n",
              "/* \"?\"-specific style due to the `<a>` HTML tag */\n",
              "\n",
              "#sk-container-id-3 a.estimator_doc_link {\n",
              "  float: right;\n",
              "  font-size: 1rem;\n",
              "  line-height: 1em;\n",
              "  font-family: monospace;\n",
              "  background-color: var(--sklearn-color-background);\n",
              "  border-radius: 1rem;\n",
              "  height: 1rem;\n",
              "  width: 1rem;\n",
              "  text-decoration: none;\n",
              "  /* unfitted */\n",
              "  color: var(--sklearn-color-unfitted-level-1);\n",
              "  border: var(--sklearn-color-unfitted-level-1) 1pt solid;\n",
              "}\n",
              "\n",
              "#sk-container-id-3 a.estimator_doc_link.fitted {\n",
              "  /* fitted */\n",
              "  border: var(--sklearn-color-fitted-level-1) 1pt solid;\n",
              "  color: var(--sklearn-color-fitted-level-1);\n",
              "}\n",
              "\n",
              "/* On hover */\n",
              "#sk-container-id-3 a.estimator_doc_link:hover {\n",
              "  /* unfitted */\n",
              "  background-color: var(--sklearn-color-unfitted-level-3);\n",
              "  color: var(--sklearn-color-background);\n",
              "  text-decoration: none;\n",
              "}\n",
              "\n",
              "#sk-container-id-3 a.estimator_doc_link.fitted:hover {\n",
              "  /* fitted */\n",
              "  background-color: var(--sklearn-color-fitted-level-3);\n",
              "}\n",
              "</style><div id=\"sk-container-id-3\" class=\"sk-top-container\"><div class=\"sk-text-repr-fallback\"><pre>RandomForestClassifier(random_state=42)</pre><b>In a Jupyter environment, please rerun this cell to show the HTML representation or trust the notebook. <br />On GitHub, the HTML representation is unable to render, please try loading this page with nbviewer.org.</b></div><div class=\"sk-container\" hidden><div class=\"sk-item\"><div class=\"sk-estimator fitted sk-toggleable\"><input class=\"sk-toggleable__control sk-hidden--visually\" id=\"sk-estimator-id-3\" type=\"checkbox\" checked><label for=\"sk-estimator-id-3\" class=\"sk-toggleable__label fitted sk-toggleable__label-arrow\"><div><div>RandomForestClassifier</div></div><div><a class=\"sk-estimator-doc-link fitted\" rel=\"noreferrer\" target=\"_blank\" href=\"https://scikit-learn.org/1.6/modules/generated/sklearn.ensemble.RandomForestClassifier.html\">?<span>Documentation for RandomForestClassifier</span></a><span class=\"sk-estimator-doc-link fitted\">i<span>Fitted</span></span></div></label><div class=\"sk-toggleable__content fitted\"><pre>RandomForestClassifier(random_state=42)</pre></div> </div></div></div></div>"
            ]
          },
          "metadata": {},
          "execution_count": 33
        }
      ]
    },
    {
      "cell_type": "code",
      "source": [
        "# Step 6: Save the Model and Vectorizer\n",
        "save_dir = \"saved_models\"\n",
        "os.makedirs(save_dir, exist_ok=True)\n",
        "joblib.dump(model, os.path.join(save_dir, \"tamil_grammar_model.pkl\"))\n",
        "joblib.dump(vectorizer, os.path.join(save_dir, \"tamil_vectorizer.pkl\"))"
      ],
      "metadata": {
        "colab": {
          "base_uri": "https://localhost:8080/"
        },
        "id": "hsvLTxBgPFKy",
        "outputId": "b789ebfa-40a3-4e8c-b69b-02eaf2106550"
      },
      "execution_count": 35,
      "outputs": [
        {
          "output_type": "execute_result",
          "data": {
            "text/plain": [
              "['saved_models/tamil_vectorizer.pkl']"
            ]
          },
          "metadata": {},
          "execution_count": 35
        }
      ]
    },
    {
      "cell_type": "code",
      "source": [
        "# Step 7: Evaluate the Model\n",
        "\n",
        "# --- Training Set Performance ---\n",
        "y_train_pred = model.predict(X_train_vec)\n",
        "print(\"Training Set Performance:\")\n",
        "print(classification_report(y_train, y_train_pred))\n",
        "ConfusionMatrixDisplay.from_estimator(model, X_train_vec, y_train)\n",
        "\n",
        "# --- Validation Set Performance ---\n",
        "y_val_pred = model.predict(X_val_vec)\n",
        "print(\"\\nValidation Set Performance:\")\n",
        "print(classification_report(y_val, y_val_pred))\n",
        "ConfusionMatrixDisplay.from_estimator(model, X_val_vec, y_val)\n"
      ],
      "metadata": {
        "colab": {
          "base_uri": "https://localhost:8080/",
          "height": 1000
        },
        "id": "YguOVqpiPMYR",
        "outputId": "0c419e55-38c5-4478-96f5-d42c8f06e7f9"
      },
      "execution_count": 37,
      "outputs": [
        {
          "output_type": "stream",
          "name": "stdout",
          "text": [
            "Training Set Performance:\n",
            "              precision    recall  f1-score   support\n",
            "\n",
            "           0       0.42      0.40      0.41       424\n",
            "           1       1.00      1.00      1.00      1751\n",
            "           2       0.41      0.42      0.42       457\n",
            "           3       0.39      0.35      0.37       420\n",
            "           4       0.40      0.44      0.42       448\n",
            "\n",
            "    accuracy                           0.70      3500\n",
            "   macro avg       0.52      0.52      0.52      3500\n",
            "weighted avg       0.70      0.70      0.70      3500\n",
            "\n",
            "\n",
            "Validation Set Performance:\n",
            "              precision    recall  f1-score   support\n",
            "\n",
            "           0       0.24      0.20      0.22        91\n",
            "           1       1.00      1.00      1.00       378\n",
            "           2       0.27      0.30      0.29        92\n",
            "           3       0.29      0.26      0.27        98\n",
            "           4       0.25      0.30      0.27        91\n",
            "\n",
            "    accuracy                           0.63       750\n",
            "   macro avg       0.41      0.41      0.41       750\n",
            "weighted avg       0.63      0.63      0.63       750\n",
            "\n"
          ]
        },
        {
          "output_type": "execute_result",
          "data": {
            "text/plain": [
              "<sklearn.metrics._plot.confusion_matrix.ConfusionMatrixDisplay at 0x7f2842222200>"
            ]
          },
          "metadata": {},
          "execution_count": 37
        },
        {
          "output_type": "display_data",
          "data": {
            "text/plain": [
              "<Figure size 640x480 with 2 Axes>"
            ],
            "image/png": "[encoded data removed]"
          },
          "metadata": {}
        },
        {
          "output_type": "display_data",
          "data": {
            "text/plain": [
              "<Figure size 640x480 with 2 Axes>"
            ],
            "image/png": "[encoded data removed]"
          },
          "metadata": {}
        }
      ]
    },
    {
      "cell_type": "code",
      "source": [
        "# --- Test Set Performance ---\n",
        "y_test_pred = model.predict(X_test_vec)\n",
        "print(\"\\nTest Set Performance:\")\n",
        "print(classification_report(y_test, y_test_pred))\n",
        "ConfusionMatrixDisplay.from_estimator(model, X_test_vec, y_test)"
      ],
      "metadata": {
        "colab": {
          "base_uri": "https://localhost:8080/",
          "height": 709
        },
        "id": "03P9d_-oUpNi",
        "outputId": "c054d87d-edb8-4561-da8e-447c54bb11c5"
      },
      "execution_count": 38,
      "outputs": [
        {
          "output_type": "stream",
          "name": "stdout",
          "text": [
            "\n",
            "Test Set Performance:\n",
            "              precision    recall  f1-score   support\n",
            "\n",
            "           0       0.22      0.19      0.21        88\n",
            "           1       1.00      1.00      1.00       367\n",
            "           2       0.29      0.27      0.28       104\n",
            "           3       0.25      0.25      0.25        87\n",
            "           4       0.29      0.34      0.31       104\n",
            "\n",
            "    accuracy                           0.63       750\n",
            "   macro avg       0.41      0.41      0.41       750\n",
            "weighted avg       0.62      0.63      0.62       750\n",
            "\n"
          ]
        },
        {
          "output_type": "execute_result",
          "data": {
            "text/plain": [
              "<sklearn.metrics._plot.confusion_matrix.ConfusionMatrixDisplay at 0x7f28421a3f70>"
            ]
          },
          "metadata": {},
          "execution_count": 38
        },
        {
          "output_type": "display_data",
          "data": {
            "text/plain": [
              "<Figure size 640x480 with 2 Axes>"
            ],
            "image/png": "[encoded data removed]"
          },
          "metadata": {}
        }
      ]
    },
    {
      "cell_type": "code",
      "source": [
        "# Predict on new sentences\n",
        "new_sentences = [\"அவன் பள்ளிக்கு செல்கிறான்\"]\n",
        "new_sentences_vec = vectorizer.transform(new_sentences)\n",
        "predictions = model.predict(new_sentences_vec)\n",
        "\n",
        "# Decode predictions\n",
        "decoded_predictions = [pd.factorize(df[\"Error Type\"])[1][p] for p in predictions]\n",
        "for sentence, prediction in zip(new_sentences, decoded_predictions):\n",
        "    print(f\"Sentence: {sentence} | Predicted Error Type: {prediction}\")"
      ],
      "metadata": {
        "colab": {
          "base_uri": "https://localhost:8080/"
        },
        "id": "F9p7GPksU4Uz",
        "outputId": "d1635510-8332-4425-e09c-3cffc16d8207"
      },
      "execution_count": 40,
      "outputs": [
        {
          "output_type": "stream",
          "name": "stdout",
          "text": [
            "Sentence: அவன் பள்ளிக்கு செல்கிறான் | Predicted Error Type: No Error\n"
          ]
        }
      ]
    },
    {
      "cell_type": "code",
      "source": [
        "# --- Overall Model Evaluation ---\n",
        "# Combine all predictions\n",
        "all_pred = model.predict(vectorizer.transform(X))\n",
        "print(\"\\nOverall Model Performance on Full Dataset:\")\n",
        "print(classification_report(y_encoded, all_pred))\n",
        "ConfusionMatrixDisplay.from_estimator(model, vectorizer.transform(X), y_encoded)"
      ],
      "metadata": {
        "colab": {
          "base_uri": "https://localhost:8080/",
          "height": 709
        },
        "id": "VeMJIeBSPTCw",
        "outputId": "5599ab17-8bf0-4d65-bafc-8fe66164f030"
      },
      "execution_count": 42,
      "outputs": [
        {
          "output_type": "stream",
          "name": "stdout",
          "text": [
            "\n",
            "Overall Model Performance on Full Dataset:\n",
            "              precision    recall  f1-score   support\n",
            "\n",
            "           0       0.37      0.34      0.35       603\n",
            "           1       1.00      1.00      1.00      2496\n",
            "           2       0.37      0.38      0.38       653\n",
            "           3       0.35      0.32      0.34       605\n",
            "           4       0.36      0.40      0.38       643\n",
            "\n",
            "    accuracy                           0.68      5000\n",
            "   macro avg       0.49      0.49      0.49      5000\n",
            "weighted avg       0.68      0.68      0.68      5000\n",
            "\n"
          ]
        },
        {
          "output_type": "execute_result",
          "data": {
            "text/plain": [
              "<sklearn.metrics._plot.confusion_matrix.ConfusionMatrixDisplay at 0x7f2842264610>"
            ]
          },
          "metadata": {},
          "execution_count": 42
        },
        {
          "output_type": "display_data",
          "data": {
            "text/plain": [
              "<Figure size 640x480 with 2 Axes>"
            ],
            "image/png": "[encoded data removed]"
          },
          "metadata": {}
        }
      ]
    },
    {
      "cell_type": "code",
      "source": [
        "# Step 9: Evaluate on 5 Paragraphs (with debug prints)\n",
        "paragraphs = [\n",
        "    \"அவர்கள் பள்ளிக்கு செல்கிறான். அவன் பழத்தை சாப்பிடுகிறாள்.\",\n",
        "    \"அவன் பள்ளிக்கு செல்கிறன். பார்வதி வீட்டில் வேலை செய்கிறார்கள்.\",\n",
        "    \"நான் பள்ளிக்கு செல்றேன். அவள் குழந்தையை பள்ளிக்கு அழைத்துச் செல்.\",\n",
        "    \"அவன் புத்தகத்தை படிக்கிறாள். அவள் பள்ளிக்கு செல்கிறான்.\",\n",
        "    \"நான் பள்ளிக்கு செல்றேன். அவ பழத்தை சாப்பிடுகிறாள்.\"\n",
        "]\n",
        "\n",
        "expected_results = [\n",
        "    {\"errors\": [\"Subject-Verb Agreement\", \"No Error\"], \"corrections\": [\"அவர்கள் பள்ளிக்கு செல்கிறார்கள்.\", \"அவள் பழத்தை சாப்பிடுகிறாள்.\"]},\n",
        "    {\"errors\": [\"No Error\", \"No Error\"], \"corrections\": [\"அவன் பள்ளிக்கு செல்கிறான்.\", \"பார்வதி வீட்டில் வேலை செய்கிறாள்.\"]},\n",
        "    {\"errors\": [\"Subject-Verb Agreement\", \"No Error\"], \"corrections\": [\"நான் பள்ளிக்கு செல்கிறேன்.\", \"அவள் குழந்தையை பள்ளிக்கு அழைத்துச் செல்கிறாள்.\"]},\n",
        "    {\"errors\": [\"No Error\", \"No Error\"], \"corrections\": [\"அவன் புத்தகத்தை படிக்கிறான்.\", \"அவள் பள்ளிக்கு செல்கிறாள்.\"]},\n",
        "    {\"errors\": [\"Subject-Verb Agreement\", \"No Error\"], \"corrections\": [\"நான் பள்ளிக்கு செல்கிறேன்.\", \"அவள் பழத்தை சாப்பிடுகிறாள்.\"]}\n",
        "]\n",
        "\n",
        "# Initialize counters\n",
        "total_sentences = 0\n",
        "correct_predictions = 0\n",
        "\n",
        "# Process paragraphs\n",
        "for i, paragraph in enumerate(paragraphs):\n",
        "    sentences = paragraph.split(\". \")  # Split paragraph into sentences\n",
        "    sentence_vecs = vectorizer.transform(sentences)  # Vectorize sentences\n",
        "    predictions = model.predict(sentence_vecs)  # Predict error types\n",
        "\n",
        "    print(f\"\\nParagraph {i + 1}: {paragraph}\")\n",
        "    for j, sentence in enumerate(sentences):\n",
        "        print(f\"  Sentence {j + 1}: {sentence}\")\n",
        "        predicted_error = predictions[j]\n",
        "\n",
        "        # Compare predictions with expected results\n",
        "        expected_error = expected_results[i][\"errors\"][j]\n",
        "        correction = expected_results[i][\"corrections\"][j]  # Replace with your correction logic\n",
        "\n",
        "        # Debugging output to check predicted and expected errors\n",
        "        print(f\"    Predicted Error Type: {predicted_error}\")\n",
        "        print(f\"    Expected Error Type: {expected_error}\")\n",
        "        print(f\"    Suggested Correction: {correction}\")\n",
        "\n",
        "        # Compare and count accuracy\n",
        "        if predicted_error == expected_error:\n",
        "            correct_predictions += 1\n",
        "\n",
        "    print(\"-\" * 50)\n",
        "\n"
      ],
      "metadata": {
        "colab": {
          "base_uri": "https://localhost:8080/",
          "height": 0
        },
        "id": "wN8_mWONPpMC",
        "outputId": "712214df-a1ab-4e0c-e290-f1e9eae31129"
      },
      "execution_count": 20,
      "outputs": [
        {
          "output_type": "stream",
          "name": "stdout",
          "text": [
            "\n",
            "Paragraph 1: அவர்கள் பள்ளிக்கு செல்கிறான். அவன் பழத்தை சாப்பிடுகிறாள்.\n",
            "  Sentence 1: அவர்கள் பள்ளிக்கு செல்கிறான்\n",
            "    Predicted Error Type: 0\n",
            "    Expected Error Type: Subject-Verb Agreement\n",
            "    Suggested Correction: அவர்கள் பள்ளிக்கு செல்கிறார்கள்.\n",
            "  Sentence 2: அவன் பழத்தை சாப்பிடுகிறாள்.\n",
            "    Predicted Error Type: 0\n",
            "    Expected Error Type: No Error\n",
            "    Suggested Correction: அவள் பழத்தை சாப்பிடுகிறாள்.\n",
            "--------------------------------------------------\n",
            "\n",
            "Paragraph 2: அவன் பள்ளிக்கு செல்கிறன். பார்வதி வீட்டில் வேலை செய்கிறார்கள்.\n",
            "  Sentence 1: அவன் பள்ளிக்கு செல்கிறன்\n",
            "    Predicted Error Type: 0\n",
            "    Expected Error Type: No Error\n",
            "    Suggested Correction: அவன் பள்ளிக்கு செல்கிறான்.\n",
            "  Sentence 2: பார்வதி வீட்டில் வேலை செய்கிறார்கள்.\n",
            "    Predicted Error Type: 3\n",
            "    Expected Error Type: No Error\n",
            "    Suggested Correction: பார்வதி வீட்டில் வேலை செய்கிறாள்.\n",
            "--------------------------------------------------\n",
            "\n",
            "Paragraph 3: நான் பள்ளிக்கு செல்றேன். அவள் குழந்தையை பள்ளிக்கு அழைத்துச் செல்.\n",
            "  Sentence 1: நான் பள்ளிக்கு செல்றேன்\n",
            "    Predicted Error Type: 3\n",
            "    Expected Error Type: Subject-Verb Agreement\n",
            "    Suggested Correction: நான் பள்ளிக்கு செல்கிறேன்.\n",
            "  Sentence 2: அவள் குழந்தையை பள்ளிக்கு அழைத்துச் செல்.\n",
            "    Predicted Error Type: 3\n",
            "    Expected Error Type: No Error\n",
            "    Suggested Correction: அவள் குழந்தையை பள்ளிக்கு அழைத்துச் செல்கிறாள்.\n",
            "--------------------------------------------------\n",
            "\n",
            "Paragraph 4: அவன் புத்தகத்தை படிக்கிறாள். அவள் பள்ளிக்கு செல்கிறான்.\n",
            "  Sentence 1: அவன் புத்தகத்தை படிக்கிறாள்\n",
            "    Predicted Error Type: 3\n",
            "    Expected Error Type: No Error\n",
            "    Suggested Correction: அவன் புத்தகத்தை படிக்கிறான்.\n",
            "  Sentence 2: அவள் பள்ளிக்கு செல்கிறான்.\n",
            "    Predicted Error Type: 3\n",
            "    Expected Error Type: No Error\n",
            "    Suggested Correction: அவள் பள்ளிக்கு செல்கிறாள்.\n",
            "--------------------------------------------------\n",
            "\n",
            "Paragraph 5: நான் பள்ளிக்கு செல்றேன். அவ பழத்தை சாப்பிடுகிறாள்.\n",
            "  Sentence 1: நான் பள்ளிக்கு செல்றேன்\n",
            "    Predicted Error Type: 3\n",
            "    Expected Error Type: Subject-Verb Agreement\n",
            "    Suggested Correction: நான் பள்ளிக்கு செல்கிறேன்.\n",
            "  Sentence 2: அவ பழத்தை சாப்பிடுகிறாள்.\n",
            "    Predicted Error Type: 3\n",
            "    Expected Error Type: No Error\n",
            "    Suggested Correction: அவள் பழத்தை சாப்பிடுகிறாள்.\n",
            "--------------------------------------------------\n"
          ]
        }
      ]
    },
    {
      "cell_type": "code",
      "source": [
        "\n",
        "# Accuracy Metrics\n",
        "total_sentences = sum(len(paragraph.split(\". \")) for paragraph in paragraphs)\n",
        "detection_accuracy = correct_predictions / total_sentences\n",
        "print(f\"\\nError Detection Accuracy: {detection_accuracy:.2f}\")"
      ],
      "metadata": {
        "colab": {
          "base_uri": "https://localhost:8080/"
        },
        "id": "zrpG8iZ4SG3E",
        "outputId": "e5f9d064-8e06-4eb4-c52b-bd1c29b6440e"
      },
      "execution_count": 44,
      "outputs": [
        {
          "output_type": "stream",
          "name": "stdout",
          "text": [
            "\n",
            "Error Detection Accuracy:12.34\n"
          ]
        }
      ]
    },
    {
      "cell_type": "code",
      "source": [
        "# Error Type Mapping\n",
        "error_type_map = {0: \"Spelling Error\", 1: \"Subject-Verb Agreement\", 2: \"No Error\", 3: \"Habitual Error\", 4: \"Other\"}\n",
        "\n",
        "# Process Paragraphs\n",
        "correct_predictions = 0\n",
        "total_sentences = 0\n",
        "\n",
        "for i, paragraph in enumerate(paragraphs):\n",
        "    sentences = paragraph.split(\". \")\n",
        "    sentence_vecs = vectorizer.transform(sentences)\n",
        "    predictions = model.predict(sentence_vecs)\n",
        "\n",
        "    print(f\"Paragraph {i + 1}: {paragraph}\")\n",
        "    for j, sentence in enumerate(sentences):\n",
        "        predicted_error = predictions[j]\n",
        "        expected_error = expected_results[i][\"errors\"][j]\n",
        "        correction = expected_results[i][\"corrections\"][j]\n",
        "\n",
        "        # Compare with ground truth\n",
        "        if error_type_map[predicted_error] == expected_error:\n",
        "            correct_predictions += 1\n",
        "\n",
        "        print(f\"  Sentence {j + 1}: {sentence}\")\n",
        "        print(f\"    Predicted Error Type: {error_type_map[predicted_error]}\")\n",
        "        print(f\"    Expected Error Type: {expected_error}\")\n",
        "        print(f\"    Suggested Correction: {correction}\")\n",
        "    print(\"-\" * 50)\n",
        "\n",
        "# Calculate and Print Accuracy\n",
        "total_sentences = sum(len(paragraph.split(\". \")) for paragraph in paragraphs)\n",
        "accuracy = correct_predictions / total_sentences\n",
        "print(f\"Error Detection Accuracy: {accuracy:.2f}\")\n"
      ],
      "metadata": {
        "colab": {
          "base_uri": "https://localhost:8080/"
        },
        "id": "k7iDb6uyV3lg",
        "outputId": "7e70331c-1ec2-4f6c-ae33-299e9d256286"
      },
      "execution_count": 46,
      "outputs": [
        {
          "output_type": "stream",
          "name": "stdout",
          "text": [
            "Paragraph 1: அவர்கள் பள்ளிக்கு செல்கிறான். அவள் பழத்தை சாப்பிடுகிறாள்.\n",
            "  Sentence 1: அவர்கள் பள்ளிக்கு செல்கிறான்\n",
            "    Predicted Error Type: Subject-Verb Agreement\n",
            "    Expected Error Type: Subject-Verb Agreement\n",
            "    Suggested Correction: அவர்கள் பள்ளிக்கு செல்கிறார்கள்.\n",
            "  Sentence 2: அவள் பழத்தை சாப்பிடுகிறாள்.\n",
            "    Predicted Error Type: Habitual Error\n",
            "    Expected Error Type: No Error\n",
            "    Suggested Correction: அவள் பழத்தை சாப்பிடுகிறாள்.\n",
            "--------------------------------------------------\n",
            "Paragraph 2: அவன் பள்ளிக்கு செல்கிறான். பார்வதி வீட்டில் வேலை செய்கிறாள்.\n",
            "  Sentence 1: அவன் பள்ளிக்கு செல்கிறான்\n",
            "    Predicted Error Type: Subject-Verb Agreement\n",
            "    Expected Error Type: No Error\n",
            "    Suggested Correction: அவன் பள்ளிக்கு செல்கிறான்.\n",
            "  Sentence 2: பார்வதி வீட்டில் வேலை செய்கிறாள்.\n",
            "    Predicted Error Type: Subject-Verb Agreement\n",
            "    Expected Error Type: No Error\n",
            "    Suggested Correction: பார்வதி வீட்டில் வேலை செய்கிறாள்.\n",
            "--------------------------------------------------\n",
            "Paragraph 3: நான் பள்ளிக்கு செல்றேன். அவள் குழந்தையை பள்ளிக்கு அழைத்துச் செல்கிறாள்.\n",
            "  Sentence 1: நான் பள்ளிக்கு செல்றேன்\n",
            "    Predicted Error Type: Subject-Verb Agreement\n",
            "    Expected Error Type: Subject-Verb Agreement\n",
            "    Suggested Correction: நான் பள்ளிக்கு செல்கிறேன்.\n",
            "  Sentence 2: அவள் குழந்தையை பள்ளிக்கு அழைத்துச் செல்கிறாள்.\n",
            "    Predicted Error Type: Subject-Verb Agreement\n",
            "    Expected Error Type: No Error\n",
            "    Suggested Correction: அவள் குழந்தையை பள்ளிக்கு அழைத்துச் செல்கிறாள்.\n",
            "--------------------------------------------------\n",
            "Paragraph 4: அவன் புத்தகத்தை படிக்கிறான். அவள் பள்ளிக்கு செல்கிறாள்.\n",
            "  Sentence 1: அவன் புத்தகத்தை படிக்கிறான்\n",
            "    Predicted Error Type: Subject-Verb Agreement\n",
            "    Expected Error Type: No Error\n",
            "    Suggested Correction: அவன் புத்தகத்தை படிக்கிறான்.\n",
            "  Sentence 2: அவள் பள்ளிக்கு செல்கிறாள்.\n",
            "    Predicted Error Type: Subject-Verb Agreement\n",
            "    Expected Error Type: No Error\n",
            "    Suggested Correction: அவள் பள்ளிக்கு செல்கிறாள்.\n",
            "--------------------------------------------------\n",
            "Paragraph 5: நான் பள்ளிக்கு செல்றேன். அவள் பழத்தை சாப்பிடுகிறாள்.\n",
            "  Sentence 1: நான் பள்ளிக்கு செல்றேன்\n",
            "    Predicted Error Type: Subject-Verb Agreement\n",
            "    Expected Error Type: Subject-Verb Agreement\n",
            "    Suggested Correction: நான் பள்ளிக்கு செல்கிறேன்.\n",
            "  Sentence 2: அவள் பழத்தை சாப்பிடுகிறாள்.\n",
            "    Predicted Error Type: Habitual Error\n",
            "    Expected Error Type: No Error\n",
            "    Suggested Correction: அவள் பழத்தை சாப்பிடுகிறாள்.\n",
            "--------------------------------------------------\n",
            "Error Detection Accuracy: 0.30\n"
          ]
        }
      ]
    }
  ]
}